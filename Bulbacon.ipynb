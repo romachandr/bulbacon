{
 "cells": [
  {
   "cell_type": "markdown",
   "metadata": {},
   "source": [
    "### https://bulbacon.com/\n",
    "### https://goo.gl/cCqrJw\n",
    "\n",
    "### Предложите решение задачи:\n",
    "\n",
    "На бесконечной шахматной доске стоит король. За один ход он может переместиться в одном из восьми направлений (по вертикали, горизонтали или диагонали). При этом движением диагонали считается одновременное движение по горизонтали и вертикали. Так же существует вероятность, что он останется стоять на том же самом месте. \n",
    "\n",
    "Каждый ход есть вероятность того, что он будет двигаться в вертикальном направлении: 30% вверх и 20% вниз. В остальных 50% случаев по вертикальному направлению он останется на том же месте. Также каждый ход есть вероятность того, что он будет двигаться в горизонтальном направлении: 40% вправо и 20% влево. В остальных 40% случаев по горизонтальному направлению он останется на том же месте.\n",
    "\n",
    "\n",
    "Какая вероятность, что через 5 ходов он будет находиться на том же месте?"
   ]
  },
  {
   "cell_type": "code",
   "execution_count": 1,
   "metadata": {},
   "outputs": [],
   "source": [
    "import numpy as np\n",
    "import random"
   ]
  },
  {
   "cell_type": "code",
   "execution_count": 2,
   "metadata": {},
   "outputs": [],
   "source": [
    "v_prob = [0.2, 0.5, 0.3]\n",
    "h_prob = [0.2, 0.4, 0.4]"
   ]
  },
  {
   "cell_type": "code",
   "execution_count": 3,
   "metadata": {},
   "outputs": [],
   "source": [
    "def gen_direction(v_prob_arr, h_prob_arr, print_log=False):\n",
    "    \"\"\"\n",
    "    Function for direction generation\n",
    "    \n",
    "    Parameters:\n",
    "    -------\n",
    "    v_prob_arr: array_like\n",
    "        vertical direction probability\n",
    "\n",
    "    h_prob_arr: array_like\n",
    "        horozontal direction probability\n",
    "        \n",
    "    Returns\n",
    "    -------\n",
    "    out : tuple\n",
    "        A tuple object with vertical and horizontal directions.\n",
    "    \"\"\"\n",
    "    v_cum = np.array([round(np.sum(v_prob_arr[0:i+1]) ,2) for i, _ in enumerate(v_prob_arr)])\n",
    "    h_cum = np.array([round(np.sum(h_prob_arr[0:i+1]), 2) for i, _ in enumerate(h_prob_arr)])\n",
    "    if(print_log): print(f'v_cum= {v_cum}, h_cum= {h_cum}')\n",
    "    v_rnd, h_rnd  = random.random(), random.random()\n",
    "    if(print_log): print(f'v_rnd= {v_rnd:.4f}, h_rnd= {h_rnd:.4f}')\n",
    "    v_dir = np.array([v_rnd>=v for v in v_cum]).argmin()-1\n",
    "    h_dir = np.array([h_rnd>=h for h in h_cum]).argmin()-1\n",
    "    if(print_log): print(f'v_dir= {v_dir}, h_dir= {h_dir}')\n",
    "    return (v_dir, h_dir)"
   ]
  },
  {
   "cell_type": "code",
   "execution_count": 4,
   "metadata": {},
   "outputs": [
    {
     "name": "stdout",
     "output_type": "stream",
     "text": [
      "v_cum= [0.2 0.7 1. ], h_cum= [0.2 0.6 1. ]\n",
      "v_rnd= 0.8019, h_rnd= 0.6230\n",
      "v_dir= 1, h_dir= 1\n"
     ]
    },
    {
     "data": {
      "text/plain": [
       "(1, 1)"
      ]
     },
     "execution_count": 4,
     "metadata": {},
     "output_type": "execute_result"
    }
   ],
   "source": [
    "gen_direction(v_prob, h_prob, True)"
   ]
  },
  {
   "cell_type": "code",
   "execution_count": 5,
   "metadata": {},
   "outputs": [],
   "source": [
    "def positions_prob(num_steps=5, num_attempts=1000):\n",
    "    \"\"\"\n",
    "    Function for determination of the probability of a new position\n",
    "    \n",
    "    Parameters:\n",
    "    -------\n",
    "    num_steps: int\n",
    "        number of steps\n",
    "\n",
    "    num_attempts: num_attempts\n",
    "        number of attempts for probability determination\n",
    "        \n",
    "    Returns\n",
    "    -------\n",
    "    out : dictionary\n",
    "        A dictionary with final positions and number of results.\n",
    "    \"\"\"\n",
    "    result_dict = {}\n",
    "    for i in range(num_attempts):\n",
    "        attempt_res = [0, 0]\n",
    "        for j in range(num_steps):\n",
    "            step_res = gen_direction(v_prob, h_prob)\n",
    "            attempt_res = [attempt_res[0]+step_res[0], attempt_res[1]+step_res[1]]\n",
    "        attempt_res = tuple(attempt_res)\n",
    "        result_dict[attempt_res] = result_dict.get(attempt_res, 0) + 1\n",
    "    return result_dict\n",
    "    "
   ]
  },
  {
   "cell_type": "code",
   "execution_count": 6,
   "metadata": {},
   "outputs": [
    {
     "name": "stdout",
     "output_type": "stream",
     "text": [
      "Wall time: 6min 25s\n"
     ]
    }
   ],
   "source": [
    "%%time\n",
    "num_attempts=1000000\n",
    "prob_result = positions_prob(num_steps=5, num_attempts=num_attempts)"
   ]
  },
  {
   "cell_type": "code",
   "execution_count": 7,
   "metadata": {
    "scrolled": true
   },
   "outputs": [
    {
     "data": {
      "text/plain": [
       "{(-5, -4): 3,\n",
       " (-5, -3): 7,\n",
       " (-5, -2): 18,\n",
       " (-5, -1): 35,\n",
       " (-5, 0): 67,\n",
       " (-5, 1): 85,\n",
       " (-5, 2): 71,\n",
       " (-5, 3): 43,\n",
       " (-5, 4): 17,\n",
       " (-5, 5): 3,\n",
       " (-4, -5): 3,\n",
       " (-4, -4): 11,\n",
       " (-4, -3): 59,\n",
       " (-4, -2): 213,\n",
       " (-4, -1): 503,\n",
       " (-4, 0): 763,\n",
       " (-4, 1): 918,\n",
       " (-4, 2): 798,\n",
       " (-4, 3): 513,\n",
       " (-4, 4): 199,\n",
       " (-4, 5): 32,\n",
       " (-3, -5): 11,\n",
       " (-3, -4): 73,\n",
       " (-3, -3): 352,\n",
       " (-3, -2): 1124,\n",
       " (-3, -1): 2602,\n",
       " (-3, 0): 4229,\n",
       " (-3, 1): 5280,\n",
       " (-3, 2): 4589,\n",
       " (-3, 3): 2786,\n",
       " (-3, 4): 1122,\n",
       " (-3, 5): 225,\n",
       " (-2, -5): 26,\n",
       " (-2, -4): 257,\n",
       " (-2, -3): 1138,\n",
       " (-2, -2): 3774,\n",
       " (-2, -1): 8548,\n",
       " (-2, 0): 13830,\n",
       " (-2, 1): 17054,\n",
       " (-2, 2): 15113,\n",
       " (-2, 3): 9331,\n",
       " (-2, 4): 3721,\n",
       " (-2, 5): 765,\n",
       " (-1, -5): 47,\n",
       " (-1, -4): 513,\n",
       " (-1, -3): 2495,\n",
       " (-1, -2): 8024,\n",
       " (-1, -1): 18323,\n",
       " (-1, 0): 30379,\n",
       " (-1, 1): 36975,\n",
       " (-1, 2): 32724,\n",
       " (-1, 3): 20589,\n",
       " (-1, 4): 8188,\n",
       " (-1, 5): 1612,\n",
       " (0, -5): 84,\n",
       " (0, -4): 724,\n",
       " (0, -3): 3813,\n",
       " (0, -2): 11937,\n",
       " (0, -1): 27267,\n",
       " (0, 0): 44124,\n",
       " (0, 1): 54289,\n",
       " (0, 2): 48069,\n",
       " (0, 3): 29964,\n",
       " (0, 4): 11902,\n",
       " (0, 5): 2383,\n",
       " (1, -5): 54,\n",
       " (1, -4): 751,\n",
       " (1, -3): 3858,\n",
       " (1, -2): 12192,\n",
       " (1, -1): 27495,\n",
       " (1, 0): 45601,\n",
       " (1, 1): 55221,\n",
       " (1, 2): 49487,\n",
       " (1, 3): 30543,\n",
       " (1, 4): 12329,\n",
       " (1, 5): 2432,\n",
       " (2, -5): 57,\n",
       " (2, -4): 542,\n",
       " (2, -3): 2705,\n",
       " (2, -2): 8670,\n",
       " (2, -1): 19052,\n",
       " (2, 0): 31751,\n",
       " (2, 1): 38400,\n",
       " (2, 2): 34029,\n",
       " (2, 3): 21522,\n",
       " (2, 4): 8542,\n",
       " (2, 5): 1692,\n",
       " (3, -5): 34,\n",
       " (3, -4): 240,\n",
       " (3, -3): 1240,\n",
       " (3, -2): 3902,\n",
       " (3, -1): 8746,\n",
       " (3, 0): 14339,\n",
       " (3, 1): 17360,\n",
       " (3, 2): 15550,\n",
       " (3, 3): 9699,\n",
       " (3, 4): 3845,\n",
       " (3, 5): 743,\n",
       " (4, -5): 5,\n",
       " (4, -4): 69,\n",
       " (4, -3): 331,\n",
       " (4, -2): 1033,\n",
       " (4, -1): 2319,\n",
       " (4, 0): 3793,\n",
       " (4, 1): 4696,\n",
       " (4, 2): 4061,\n",
       " (4, 3): 2601,\n",
       " (4, 4): 1070,\n",
       " (4, 5): 224,\n",
       " (5, -4): 3,\n",
       " (5, -3): 42,\n",
       " (5, -2): 122,\n",
       " (5, -1): 269,\n",
       " (5, 0): 480,\n",
       " (5, 1): 552,\n",
       " (5, 2): 484,\n",
       " (5, 3): 331,\n",
       " (5, 4): 128,\n",
       " (5, 5): 28}"
      ]
     },
     "execution_count": 7,
     "metadata": {},
     "output_type": "execute_result"
    }
   ],
   "source": [
    "prob_result"
   ]
  },
  {
   "cell_type": "code",
   "execution_count": 8,
   "metadata": {},
   "outputs": [
    {
     "name": "stdout",
     "output_type": "stream",
     "text": [
      "Вероятность того, что через 5 ходов король будет находиться на том же месте равна 4.41%\n"
     ]
    }
   ],
   "source": [
    "zero_prob = prob_result[(0, 0)]/num_attempts\n",
    "print(f'Вероятность того, что через 5 ходов король будет находиться на том же месте равна {zero_prob:.2%}')"
   ]
  }
 ],
 "metadata": {
  "kernelspec": {
   "display_name": "Python 3",
   "language": "python",
   "name": "python3"
  },
  "language_info": {
   "codemirror_mode": {
    "name": "ipython",
    "version": 3
   },
   "file_extension": ".py",
   "mimetype": "text/x-python",
   "name": "python",
   "nbconvert_exporter": "python",
   "pygments_lexer": "ipython3",
   "version": "3.6.4"
  }
 },
 "nbformat": 4,
 "nbformat_minor": 2
}
